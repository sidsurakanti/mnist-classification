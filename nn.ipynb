{
 "cells": [
  {
   "cell_type": "code",
   "execution_count": 15,
   "id": "b5c4332c-4bf8-44fb-8c0c-003f19a9b34d",
   "metadata": {},
   "outputs": [],
   "source": [
    "import pandas as pd\n",
    "import numpy as np\n",
    "from matplotlib import pyplot as plt\n",
    "from random import randint"
   ]
  },
  {
   "cell_type": "code",
   "execution_count": 16,
   "id": "3c9d0fa5-5908-4af5-b1b5-c4bea026356e",
   "metadata": {},
   "outputs": [],
   "source": [
    "train = pd.read_csv(\"./dataset/train.csv\")\n",
    "test = pd.read_csv(\"./dataset/test.csv\")\n",
    "\n",
    "train = np.array(train)\n",
    "m, n = train.shape # training examples (m), pixels (784)\n",
    "np.random.shuffle(train)\n",
    "\n",
    "train = train.T\n",
    "X = train[1:] / 255.0 # images (784, m)\n",
    "y = train[0] # labels (1, m)\n",
    "\n",
    "test = np.array(test)\n",
    "test = test.T\n",
    "y_test, X_test = test[0], test[1:].T / 255.0"
   ]
  },
  {
   "cell_type": "code",
   "execution_count": 17,
   "id": "aa24fc44-a03c-40a5-bb95-0270dfa2936f",
   "metadata": {},
   "outputs": [],
   "source": [
    "def params():\n",
    "    # he init\n",
    "    W1 = np.random.randn(10, 784) * np.sqrt(2/784)\n",
    "    b1 = np.zeros((10, 1))\n",
    "    W2 = np.random.randn(10, 10) * np.sqrt(2/10)\n",
    "    b2 = np.zeros((10, 1))\n",
    "\n",
    "    return W1, b1, W2, b2\n",
    "\n",
    "def ReLU(Z):\n",
    "    return np.maximum(0, Z)\n",
    "\n",
    "def dReLU(Z):\n",
    "    return (Z > 0).astype(float)\n",
    "\n",
    "def softmax(Z2):\n",
    "    expZ = np.exp(Z2 - np.max(Z2, axis=0, keepdims=True))\n",
    "    return expZ / np.sum(expZ, axis=0, keepdims=True)\n",
    "\n",
    "def one_hot(y):\n",
    "    m = y.shape[0]\n",
    "    arr = np.zeros((10, m))\n",
    "    arr[y, np.arange(m)] = 1\n",
    "    return arr"
   ]
  },
  {
   "cell_type": "code",
   "execution_count": 18,
   "id": "902ce482-0d51-4d5c-b30d-f05696196d84",
   "metadata": {},
   "outputs": [],
   "source": [
    "def forward_pass(W1, b1, W2, b2, X):\n",
    "    Z1 = W1 @ X + b1 # (10, m)\n",
    "    A1 = ReLU(Z1) # hidden layer 1 (10, m)\n",
    "    Z2 = W2 @ A1 + b2 # logits, (10, m)\n",
    "    A2 = softmax(Z2) # output layer normalized based on probability (10, m)\n",
    "\n",
    "    return A2, Z2, A1, Z1"
   ]
  },
  {
   "cell_type": "code",
   "execution_count": 19,
   "id": "04f15935-9af3-4aaf-8e5c-9477fec2935e",
   "metadata": {},
   "outputs": [],
   "source": [
    "def cost(A2, y):\n",
    "    # cross entropy loss\n",
    "    return -np.mean(np.sum(one_hot(y) * np.log(A2 + 1e-9), axis=1))\n",
    "\n",
    "def backward_pass(A2, Z2, A1, Z1, W2, W1, y):\n",
    "    # chain rule dC/dW2, dC/db2\n",
    "    dZ2 = A2 - one_hot(y) # dC wrt dZ2, (10, m)\n",
    "    dW2 = dZ2 @ A1.T / m # (10, m) * (m, 10).T => (10, 10), dZ2 wrt dW2\n",
    "    db2 = np.sum(dZ2, axis=1, keepdims=True) / m # (10, 1)\n",
    "\n",
    "    # chain rule dC/dW1, dC/db1\n",
    "    dA1 = W2.T @ dZ2 # (10, 10) * (10, m) => (10, m)\n",
    "    dZ1 = dA1 * dReLU(Z1) # => (10, m)\n",
    "    dW1 = dZ1 @ X.T / m  # (10, m) * (m, 784) => (10, 784)\n",
    "    db1 = np.sum(dZ1, axis=1, keepdims=True) / m # (10, 1)\n",
    "\n",
    "    return dW1, db1, dW2, db2\n",
    "\n",
    "def update_params(dW1, db1, dW2, db2, W2, b2, W1, b1):\n",
    "    # stochastic gradient descent\n",
    "    alpha = 0.1 # learning rate\n",
    "    W2 -= dW2 * alpha\n",
    "    b2 -= db2 * alpha\n",
    "    W1 -= dW1 * alpha\n",
    "    b1 -= db1 * alpha\n",
    "\n",
    "    return W1, b1, W2, b2\n",
    "\n",
    "def get_accuracy(A2, Y):\n",
    "    predictions = np.argmax(A2, axis=0)\n",
    "    return np.mean(predictions == Y) * 100\n",
    "\n",
    "def gradient_descent(X, Y, iterations):\n",
    "    W1, b1, W2, b2 = params()\n",
    "    costs = []\n",
    "    accuracies = []\n",
    "    for i in range(iterations):\n",
    "        A2, Z2, A1, Z1 = forward_pass(W1, b1, W2, b2, X)\n",
    "        dW1, db1, dW2, db2 = backward_pass(A2, Z2, A1, Z1, W2, W1, Y)\n",
    "        W1, b1, W2, b2 = update_params(dW1, db1, dW2, db2, W2, b2, W1, b1)\n",
    "        \n",
    "\n",
    "        if i % 100 == 0:\n",
    "            cost_i = cost(A2, Y)\n",
    "            accuracy_i = round(get_accuracy(A2, Y), 2)\n",
    "            costs.append(cost_i)\n",
    "            accuracies.append(accuracy_i)\n",
    "            print(\"Iteration:\", i)\n",
    "            print(f\"Accuracy: {accuracy_i}%\")\n",
    "            print(\"Cost:\", round(cost_i))\n",
    "    \n",
    "    iters = range(0, iterations, 100)\n",
    "\n",
    "\n",
    "    plt.subplot(211)\n",
    "    plt.title(\"Cost\")\n",
    "    plt.ylabel(\"Cost\")\n",
    "    plt.xlabel(\"Iterations\")\n",
    "    plt.plot(iters, costs, color=\"red\")\n",
    "    \n",
    "    plt.subplot(212)\n",
    "    plt.title(\"Accuracy\")\n",
    "    plt.ylabel(\"Accuracy\")\n",
    "    plt.xlabel(\"Iterations\")\n",
    "    plt.plot(iters, accuracies)\n",
    "\n",
    "    plt.suptitle(\"Results\")\n",
    "    plt.tight_layout()\n",
    "    plt.show()\n",
    "\n",
    "    return W1, b1, W2, b2"
   ]
  },
  {
   "cell_type": "code",
   "execution_count": 20,
   "id": "966c2902-c3b3-40ec-80ca-b1723351053b",
   "metadata": {},
   "outputs": [
    {
     "name": "stdout",
     "output_type": "stream",
     "text": [
      "Iteration: 0\n",
      "Accuracy: 11.99%\n",
      "Cost: 14582\n",
      "Iteration: 100\n",
      "Accuracy: 82.43%\n",
      "Cost: 3938\n",
      "Iteration: 200\n",
      "Accuracy: 87.46%\n",
      "Cost: 2785\n",
      "Iteration: 300\n",
      "Accuracy: 89.38%\n",
      "Cost: 2346\n",
      "Iteration: 400\n",
      "Accuracy: 90.32%\n",
      "Cost: 2112\n",
      "Iteration: 500\n",
      "Accuracy: 90.89%\n",
      "Cost: 1968\n",
      "Iteration: 600\n",
      "Accuracy: 91.28%\n",
      "Cost: 1871\n",
      "Iteration: 700\n",
      "Accuracy: 91.64%\n",
      "Cost: 1798\n",
      "Iteration: 800\n",
      "Accuracy: 91.92%\n",
      "Cost: 1742\n",
      "Iteration: 900\n",
      "Accuracy: 92.11%\n",
      "Cost: 1696\n",
      "Iteration: 1000\n",
      "Accuracy: 92.27%\n",
      "Cost: 1657\n",
      "Iteration: 1100\n",
      "Accuracy: 92.41%\n",
      "Cost: 1624\n",
      "Iteration: 1200\n",
      "Accuracy: 92.52%\n",
      "Cost: 1595\n",
      "Iteration: 1300\n",
      "Accuracy: 92.64%\n",
      "Cost: 1569\n",
      "Iteration: 1400\n",
      "Accuracy: 92.75%\n",
      "Cost: 1546\n"
     ]
    },
    {
     "data": {
      "image/png": "[encoded data removed]",
      "text/plain": [
       "<Figure size 640x480 with 2 Axes>"
      ]
     },
     "metadata": {},
     "output_type": "display_data"
    }
   ],
   "source": [
    "trained_weights = gradient_descent(X, y, 1500)"
   ]
  },
  {
   "cell_type": "code",
   "execution_count": 21,
   "id": "59de5556-ca87-431e-b957-748d473b4b9b",
   "metadata": {},
   "outputs": [
    {
     "name": "stdout",
     "output_type": "stream",
     "text": [
      "Prediction: 1\n",
      "Label: 1\n"
     ]
    },
    {
     "data": {
      "image/png": "[encoded data removed]",
      "text/plain": [
       "<Figure size 640x480 with 1 Axes>"
      ]
     },
     "metadata": {},
     "output_type": "display_data"
    }
   ],
   "source": [
    "def predict(i, W1, b1, W2, b2):\n",
    "    A2, _, _, _ = forward_pass(W1, b1, W2, b2, X_test.T)\n",
    "    prediction = np.argmax(A2, axis=0)[i]\n",
    "    label = y_test[i]\n",
    "    plt.imshow(X_test[i].reshape((28, 28)), cmap=\"gray\")\n",
    "    plt.axis(False)\n",
    "    print(\"Prediction:\", int(prediction))\n",
    "    print(\"Label:\", int(label))\n",
    "\n",
    "predict(randint(1, 10000), *trained_weights)"
   ]
  },
  {
   "cell_type": "code",
   "execution_count": null,
   "id": "ccb39a58",
   "metadata": {},
   "outputs": [],
   "source": []
  }
 ],
 "metadata": {
  "kernelspec": {
   "display_name": "Python 3",
   "language": "python",
   "name": "python3"
  },
  "language_info": {
   "codemirror_mode": {
    "name": "ipython",
    "version": 3
   },
   "file_extension": ".py",
   "mimetype": "text/x-python",
   "name": "python",
   "nbconvert_exporter": "python",
   "pygments_lexer": "ipython3",
   "version": "3.10.12"
  }
 },
 "nbformat": 4,
 "nbformat_minor": 5
}
