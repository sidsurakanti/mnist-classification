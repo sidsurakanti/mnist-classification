{
 "cells": [
  {
   "cell_type": "code",
   "execution_count": 1,
   "id": "b5c4332c-4bf8-44fb-8c0c-003f19a9b34d",
   "metadata": {},
   "outputs": [],
   "source": [
    "import pandas as pd\n",
    "import numpy as np\n",
    "from matplotlib import pyplot as plt\n",
    "from random import randint"
   ]
  },
  {
   "cell_type": "code",
   "execution_count": 2,
   "id": "3c9d0fa5-5908-4af5-b1b5-c4bea026356e",
   "metadata": {},
   "outputs": [],
   "source": [
    "train = pd.read_csv(\"./dataset/train.csv\")\n",
    "test = pd.read_csv(\"./dataset/test.csv\")\n",
    "\n",
    "train = np.array(train)\n",
    "m, n = train.shape # training examples (m), pixels (784)\n",
    "np.random.shuffle(train)\n",
    "\n",
    "train = train.T\n",
    "X = train[1:] / 255.0 # images (784, m)\n",
    "y = train[0] # labels (1, m)\n",
    "\n",
    "test = np.array(test)\n",
    "test = test.T\n",
    "y_test, X_test = test[0], test[1:].T / 255.0"
   ]
  },
  {
   "cell_type": "code",
   "execution_count": 3,
   "id": "aa24fc44-a03c-40a5-bb95-0270dfa2936f",
   "metadata": {},
   "outputs": [],
   "source": [
    "def params():\n",
    "    W1 = np.random.rand(10, 784) - 0.5\n",
    "    b1 = np.random.rand(10, 1) - 0.5\n",
    "    W2 = np.random.rand(10, 10) - 0.5\n",
    "    b2 = np.random.rand(10, 1) - 0.5\n",
    "\n",
    "    return W1, b1, W2, b2\n",
    "\n",
    "def ReLU(Z):\n",
    "    return np.maximum(0, Z)\n",
    "\n",
    "def dReLU(Z):\n",
    "    return (Z > 0).astype(float)\n",
    "\n",
    "def softmax(Z2):\n",
    "    expZ = np.exp(Z2 - np.max(Z2, axis=0, keepdims=True))\n",
    "    return expZ / np.sum(expZ, axis=0, keepdims=True)\n",
    "\n",
    "def one_hot(y):\n",
    "    m = y.shape[0]\n",
    "    arr = np.zeros((10, m))\n",
    "    arr[y, np.arange(m)] = 1\n",
    "    return arr"
   ]
  },
  {
   "cell_type": "code",
   "execution_count": 4,
   "id": "902ce482-0d51-4d5c-b30d-f05696196d84",
   "metadata": {},
   "outputs": [],
   "source": [
    "def forward_pass(W1, b1, W2, b2, X):\n",
    "    Z1 = W1 @ X + b1 # (10, m)\n",
    "    A1 = ReLU(Z1) # hidden layer 1 (10, m)\n",
    "    Z2 = W2 @ A1 + b2 # logits, (10, m)\n",
    "    A2 = softmax(Z2) # output layer normalized based on probability (10, m)\n",
    "\n",
    "    return A2, Z2, A1, Z1"
   ]
  },
  {
   "cell_type": "code",
   "execution_count": 5,
   "id": "04f15935-9af3-4aaf-8e5c-9477fec2935e",
   "metadata": {},
   "outputs": [],
   "source": [
    "def cost(A2, y):\n",
    "    return (A2 - one_hot(y))**2 * 1/m\n",
    "\n",
    "def backward_pass(A2, Z2, A1, Z1, W2, W1, y):\n",
    "    # chain rule dC/dW2, dC/db2\n",
    "    dZ2 = 2 * (A2 - one_hot(y)) # dC wrt dZ2\n",
    "    dW2 = dZ2 @ A1.T / m # (10, m) * (m, 10).T, dZ2 wrt dW2\n",
    "    db2 = np.sum(dZ2, axis=1, keepdims=True) / m # (10, 1)\n",
    "\n",
    "    # chain rule dC/dW1, dC/db1\n",
    "    dA1 = W2.T @ dZ2 # (10, 10) * (10, m)\n",
    "    dZ1 = dA1 * dReLU(Z1)\n",
    "    dW1 = dZ1 @ X.T / m\n",
    "    db1 = np.sum(dZ1, axis=1, keepdims=True) / m\n",
    "\n",
    "    return dW1, db1, dW2, db2\n",
    "\n",
    "def update_params(dW1, db1, dW2, db2, W2, b2, W1, b1):\n",
    "    lr = 0.1\n",
    "    W2 -= dW2 * lr\n",
    "    b2 -= db2 * lr\n",
    "    W1 -= dW1 * lr\n",
    "    b1 -= db1 * lr\n",
    "\n",
    "    return W1, b1, W2, b1\n",
    "\n",
    "def get_accuracy(A2, Y):\n",
    "    predictions = np.argmax(A2, axis=0)\n",
    "    return np.mean(predictions == y) * 100\n",
    "\n",
    "def gradient_descent(X, Y, iterations):\n",
    "    W1, b1, W2, b2 = params()\n",
    "    for i in range(iterations):\n",
    "        A2, Z2, A1, Z1 = forward_pass(W1, b1, W2, b2, X)\n",
    "        dW1, db1, dW2, db2 = backward_pass(A2, Z2, A1, Z1, W2, W1, Y)\n",
    "        W1, b1, W2, b2 = update_params(dW1, db1, dW2, db2, W2, b2, W1, b1)\n",
    "\n",
    "        if i % 50 == 0:\n",
    "            print(\"Iteration:\", i)\n",
    "            print(\"Accuracy:\", round(get_accuracy(A2, Y), 2))\n",
    "    return W1, b1, W2, b2"
   ]
  },
  {
   "cell_type": "code",
   "execution_count": 6,
   "id": "966c2902-c3b3-40ec-80ca-b1723351053b",
   "metadata": {},
   "outputs": [
    {
     "name": "stdout",
     "output_type": "stream",
     "text": [
      "Iteration: 0\n",
      "Accuracy: 11.83\n",
      "Iteration: 50\n",
      "Accuracy: 63.2\n",
      "Iteration: 100\n",
      "Accuracy: 74.25\n",
      "Iteration: 150\n",
      "Accuracy: 78.57\n",
      "Iteration: 200\n",
      "Accuracy: 80.96\n",
      "Iteration: 250\n",
      "Accuracy: 82.66\n",
      "Iteration: 300\n",
      "Accuracy: 83.91\n",
      "Iteration: 350\n",
      "Accuracy: 84.86\n",
      "Iteration: 400\n",
      "Accuracy: 85.65\n",
      "Iteration: 450\n",
      "Accuracy: 86.31\n"
     ]
    }
   ],
   "source": [
    "trainedWeights = gradient_descent(X, y, 500)"
   ]
  },
  {
   "cell_type": "code",
   "execution_count": 7,
   "id": "59de5556-ca87-431e-b957-748d473b4b9b",
   "metadata": {},
   "outputs": [
    {
     "name": "stdout",
     "output_type": "stream",
     "text": [
      "Prediction:  1\n",
      "Label: 1\n"
     ]
    },
    {
     "data": {
      "image/png": "[encoded data removed]",
      "text/plain": [
       "<Figure size 640x480 with 1 Axes>"
      ]
     },
     "metadata": {},
     "output_type": "display_data"
    }
   ],
   "source": [
    "def predict(i, W1, b1, W2, b2):\n",
    "    A2, _, _, _ = forward_pass(W1, b1, W2, b2, X_test.T)\n",
    "    prediction = np.argmax(A2, axis=0)[i]\n",
    "    label = y_test[i]\n",
    "    plt.imshow(X_test[i].reshape((28, 28)), cmap=\"gray\")\n",
    "    plt.axis(False)\n",
    "    print(\"Prediction: \", int(prediction))\n",
    "    print(\"Label:\", int(label))\n",
    "\n",
    "predict(randint(1, 10000), *trainedWeights)"
   ]
  }
 ],
 "metadata": {
  "kernelspec": {
   "display_name": "Python 3",
   "language": "python",
   "name": "python3"
  },
  "language_info": {
   "codemirror_mode": {
    "name": "ipython",
    "version": 3
   },
   "file_extension": ".py",
   "mimetype": "text/x-python",
   "name": "python",
   "nbconvert_exporter": "python",
   "pygments_lexer": "ipython3",
   "version": "3.9.6"
  }
 },
 "nbformat": 4,
 "nbformat_minor": 5
}
