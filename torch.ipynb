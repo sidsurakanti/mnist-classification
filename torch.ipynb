{
 "cells": [
  {
   "cell_type": "code",
   "execution_count": 18,
   "id": "bc6ebe97",
   "metadata": {},
   "outputs": [],
   "source": [
    "import torch\n",
    "from torch import nn\n",
    "from torch.utils.data import DataLoader\n",
    "from torchvision import datasets\n",
    "from torchvision.transforms import ToTensor"
   ]
  },
  {
   "cell_type": "code",
   "execution_count": 19,
   "id": "95de0c60",
   "metadata": {},
   "outputs": [
    {
     "name": "stdout",
     "output_type": "stream",
     "text": [
      "True\n",
      "NVIDIA GeForce RTX 4060\n"
     ]
    }
   ],
   "source": [
    "print(torch.cuda.is_available())\n",
    "print(torch.cuda.get_device_name())"
   ]
  },
  {
   "cell_type": "code",
   "execution_count": 20,
   "id": "70a4abdc",
   "metadata": {},
   "outputs": [],
   "source": [
    "trainD = datasets.MNIST(root=\"data\", train=True, download=True, transform=ToTensor())\n",
    "testD = datasets.MNIST(root=\"data\", train=False, download=True, transform=ToTensor())"
   ]
  },
  {
   "cell_type": "code",
   "execution_count": 21,
   "id": "d2654f3f",
   "metadata": {},
   "outputs": [
    {
     "name": "stdout",
     "output_type": "stream",
     "text": [
      "shape x: torch.Size([128, 1, 28, 28])\n",
      "shape y: torch.Size([128]) torch.int64\n"
     ]
    }
   ],
   "source": [
    "BATCH_SIZE = 128\n",
    "DEVICE = torch.accelerator.current_accelerator()\n",
    "\n",
    "train_DL = DataLoader(trainD, batch_size=BATCH_SIZE, shuffle=True)\n",
    "test_DL = DataLoader(testD, batch_size=BATCH_SIZE, shuffle=True)\n",
    "\n",
    "for X, y in test_DL:\n",
    "  print(\"shape x:\", X.shape) # batchsize, channels, w, h\n",
    "  print(\"shape y:\", y.shape, y.dtype), # label shape of batch\n",
    "  break"
   ]
  },
  {
   "cell_type": "code",
   "execution_count": 22,
   "id": "3a8f6752",
   "metadata": {},
   "outputs": [],
   "source": [
    "loss_fn = nn.CrossEntropyLoss()"
   ]
  },
  {
   "cell_type": "code",
   "execution_count": 23,
   "id": "a548ae7f",
   "metadata": {},
   "outputs": [],
   "source": [
    "class Mnist(nn.Module):\n",
    "  def __init__(self):\n",
    "    super().__init__()\n",
    "    self.flatten = nn.Flatten()\n",
    "    self.model = nn.Sequential(\n",
    "      nn.Linear(28*28, 256),\n",
    "      nn.ReLU(),\n",
    "      nn.Linear(256, 256),\n",
    "      nn.ReLU(),\n",
    "      nn.Linear(256, 10)\n",
    "    )\n",
    "  \n",
    "  def forward(self, X):\n",
    "    X = self.flatten(X) # 28*28 images to (784, 1)\n",
    "    logits = self.model(X)\n",
    "    return logits"
   ]
  },
  {
   "cell_type": "code",
   "execution_count": 24,
   "id": "258862ea",
   "metadata": {},
   "outputs": [],
   "source": [
    "def accuracy(output, y):\n",
    "  preds = torch.argmax(output, dim=1)\n",
    "    # y (labels) == preds.argmax\n",
    "  return (preds == y).float().mean()*100"
   ]
  },
  {
   "cell_type": "code",
   "execution_count": 25,
   "id": "b0eceb11",
   "metadata": {},
   "outputs": [],
   "source": [
    "def train(dataloader, model, loss_fn, optimizer=None):\n",
    "  model.train()\n",
    "  size = len(dataloader.dataset)\n",
    "  lr = 1e-3\n",
    "\n",
    "  for batch_i, (X, y) in enumerate(dataloader): # in batches from DL\n",
    "    X, y = X.to(DEVICE), y.to(DEVICE)\n",
    "\n",
    "    pred = model(X)\n",
    "    loss = loss_fn(pred, y)\n",
    "    loss.backward()\n",
    "\n",
    "    if (not optimizer):\n",
    "      # -- MANUAL SGD\n",
    "      with torch.no_grad():\n",
    "        for param in model.parameters():\n",
    "          param -= param.grad * lr # update gradients\n",
    "      model.zero_grad() # reset gradients\n",
    "    else:\n",
    "      # optimization\n",
    "      optimizer.step()\n",
    "      optimizer.zero_grad() # clear gradients\n",
    "\n",
    "    if (batch_i) % 100 < 1:\n",
    "      print(f\"Curr: {batch_i*BATCH_SIZE + len(X)}/{size}, Loss = {loss.item():.4f}\")\n"
   ]
  },
  {
   "cell_type": "code",
   "execution_count": 26,
   "id": "88b8c968",
   "metadata": {},
   "outputs": [],
   "source": [
    "def testing(dataloader, model, loss_fn):\n",
    "  model.eval()\n",
    "  size = len(dataloader.dataset)\n",
    "  num_batches = len(dataloader)\n",
    "  test_loss = correct = 0\n",
    "\n",
    "  with torch.no_grad():\n",
    "    for X, y in dataloader:\n",
    "      X, y = X.to(DEVICE), y.to(DEVICE)\n",
    "\n",
    "      pred = model(X)\n",
    "      test_loss += loss_fn(pred, y).item()\n",
    "      correct += (pred.argmax(dim=1) == y).type(torch.float).sum().item()\n",
    "\n",
    "  avg_loss = test_loss / num_batches\n",
    "  accuracy = correct / size\n",
    "\n",
    "  print(\"Test completed,\")\n",
    "  print(f\"Accuracy: {accuracy*100:.2f}%, Avg Loss: {avg_loss:.4f}\\n\")"
   ]
  },
  {
   "cell_type": "code",
   "execution_count": 27,
   "id": "ef4ae3ad",
   "metadata": {},
   "outputs": [],
   "source": [
    "def fit(epochs: int):\n",
    "  model = Mnist().to(DEVICE)\n",
    "  optimizer = torch.optim.Adam(model.parameters(), lr=1e-3)\n",
    "\n",
    "  print(\"Starting!\")\n",
    "  for epoch in range(epochs):\n",
    "    print(f\"Epoch {epoch+1}\")\n",
    "    train(train_DL, model, loss_fn, optimizer)\n",
    "    testing(test_DL, model, loss_fn)\n",
    "  print(\"Done!\")\n",
    "\n",
    "  torch.save(model.state_dict(), \"mnist_weights.pth\")\n",
    "  print(\"Weights saved to `mnist_weights.pth`\")"
   ]
  },
  {
   "cell_type": "code",
   "execution_count": 28,
   "id": "1556cb31",
   "metadata": {},
   "outputs": [
    {
     "name": "stdout",
     "output_type": "stream",
     "text": [
      "Starting!\n",
      "Epoch 1\n",
      "Curr: 128/60000, Loss = 2.3082\n",
      "Curr: 12928/60000, Loss = 0.2922\n",
      "Curr: 25728/60000, Loss = 0.2259\n",
      "Curr: 38528/60000, Loss = 0.2181\n",
      "Curr: 51328/60000, Loss = 0.1445\n",
      "Test completed,\n",
      "Accuracy: 95.30%, Avg Loss: 0.1476\n",
      "\n",
      "Epoch 2\n",
      "Curr: 128/60000, Loss = 0.1632\n",
      "Curr: 12928/60000, Loss = 0.1247\n",
      "Curr: 25728/60000, Loss = 0.1349\n",
      "Curr: 38528/60000, Loss = 0.0664\n",
      "Curr: 51328/60000, Loss = 0.1203\n",
      "Test completed,\n",
      "Accuracy: 96.89%, Avg Loss: 0.0990\n",
      "\n",
      "Epoch 3\n",
      "Curr: 128/60000, Loss = 0.1111\n",
      "Curr: 12928/60000, Loss = 0.1582\n",
      "Curr: 25728/60000, Loss = 0.0839\n",
      "Curr: 38528/60000, Loss = 0.0498\n",
      "Curr: 51328/60000, Loss = 0.0542\n",
      "Test completed,\n",
      "Accuracy: 97.26%, Avg Loss: 0.0889\n",
      "\n",
      "Epoch 4\n",
      "Curr: 128/60000, Loss = 0.0337\n",
      "Curr: 12928/60000, Loss = 0.0209\n",
      "Curr: 25728/60000, Loss = 0.1685\n",
      "Curr: 38528/60000, Loss = 0.0557\n",
      "Curr: 51328/60000, Loss = 0.0402\n",
      "Test completed,\n",
      "Accuracy: 97.67%, Avg Loss: 0.0745\n",
      "\n",
      "Epoch 5\n",
      "Curr: 128/60000, Loss = 0.0561\n",
      "Curr: 12928/60000, Loss = 0.0229\n",
      "Curr: 25728/60000, Loss = 0.1339\n",
      "Curr: 38528/60000, Loss = 0.0082\n",
      "Curr: 51328/60000, Loss = 0.1164\n",
      "Test completed,\n",
      "Accuracy: 97.78%, Avg Loss: 0.0726\n",
      "\n",
      "Done!\n",
      "Weights saved to `mnist_weights.pth`\n"
     ]
    }
   ],
   "source": [
    "EPOCHS = 5\n",
    "\n",
    "fit(EPOCHS)"
   ]
  }
 ],
 "metadata": {
  "kernelspec": {
   "display_name": "Python 3",
   "language": "python",
   "name": "python3"
  },
  "language_info": {
   "codemirror_mode": {
    "name": "ipython",
    "version": 3
   },
   "file_extension": ".py",
   "mimetype": "text/x-python",
   "name": "python",
   "nbconvert_exporter": "python",
   "pygments_lexer": "ipython3",
   "version": "3.12.1"
  }
 },
 "nbformat": 4,
 "nbformat_minor": 5
}
